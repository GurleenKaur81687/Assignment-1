{
 "cells": [
  {
   "cell_type": "code",
   "execution_count": 1,
   "id": "64febf14-0c8b-477c-9048-ba6f7ef762de",
   "metadata": {},
   "outputs": [
    {
     "name": "stdout",
     "output_type": "stream",
     "text": [
      "Virat Kohli : 24936\n",
      "Jack Kallis : 25534\n",
      "Ricky Ponting : 27483\n",
      "Sachin Tendulkar : 34357\n"
     ]
    }
   ],
   "source": [
    "#Q1. Create a python program to sort the given list of tuples based on integer value using a\n",
    "# lambda function.\n",
    "# [('Sachin Tendulkar', 34357), ('Ricky Ponting', 27483), ('Jack Kallis', 25534), ('Virat Kohli', 24936)]\n",
    "list1 = [('Sachin Tendulkar', 34357), ('Ricky Ponting', 27483), ('Jack Kallis', 25534), ('Virat Kohli', 24936)]\n",
    "sorted_data = sorted(list1 , key = lambda x: x[1])\n",
    "for name,score in sorted_data:\n",
    "    print(f\"{name} : {score}\")"
   ]
  },
  {
   "cell_type": "code",
   "execution_count": 9,
   "id": "13f45def-7d2f-42f7-8189-3fb8c6701ac9",
   "metadata": {},
   "outputs": [
    {
     "data": {
      "text/plain": [
       "[1, 4, 9, 16, 25, 36, 49, 64, 81, 100]"
      ]
     },
     "execution_count": 9,
     "metadata": {},
     "output_type": "execute_result"
    }
   ],
   "source": [
    "#Q2. Write a Python Program to find the squares of all the numbers in the given list of integers using\n",
    "#lambda and map functions.\n",
    "#[1, 2, 3, 4, 5, 6, 7, 8, 9, 10]\n",
    "l = [1,2,3,4,5,6,7,8,9,10]\n",
    "list(map(lambda x : x**2 , l))"
   ]
  },
  {
   "cell_type": "code",
   "execution_count": 11,
   "id": "7735918a-9f03-4e42-80dd-6dc2dafe4472",
   "metadata": {},
   "outputs": [
    {
     "data": {
      "text/plain": [
       "('1', '2', '3', '4', '5', '6', '7', '8', '9', '10')"
      ]
     },
     "execution_count": 11,
     "metadata": {},
     "output_type": "execute_result"
    }
   ],
   "source": [
    "#Q3. Write a python program to convert the given list of integers into a tuple of strings. Use map and\n",
    "#lambda functions\n",
    "#Given String: [1, 2, 3, 4, 5, 6, 7, 8, 9, 10]\n",
    "#Expected output: ('1', '2', '3', '4', '5', '6', '7', '8', '9', '10')\n",
    "l = [1,2,3,4,5,6,7,8,9,10]\n",
    "tuple(map(lambda x : str(x) , l))"
   ]
  },
  {
   "cell_type": "code",
   "execution_count": 12,
   "id": "9b3f5f15-09ff-4a04-875f-e82445fff8d8",
   "metadata": {},
   "outputs": [],
   "source": [
    "#Q4. Write a python program using reduce function to compute the product of a list containing numbers\n",
    "#from 1 to 25.\n",
    "a = list(range(1,26))"
   ]
  },
  {
   "cell_type": "code",
   "execution_count": 15,
   "id": "5640f743-fbc2-4e05-a598-de9ecc6b56e9",
   "metadata": {},
   "outputs": [
    {
     "data": {
      "text/plain": [
       "15511210043330985984000000"
      ]
     },
     "execution_count": 15,
     "metadata": {},
     "output_type": "execute_result"
    }
   ],
   "source": [
    "from functools import reduce\n",
    "reduce(lambda x,y : x*y , a)"
   ]
  },
  {
   "cell_type": "code",
   "execution_count": 17,
   "id": "7751854f-a255-465d-bb6f-5ca1b077a897",
   "metadata": {},
   "outputs": [
    {
     "data": {
      "text/plain": [
       "[6, 60, 90, 120]"
      ]
     },
     "execution_count": 17,
     "metadata": {},
     "output_type": "execute_result"
    }
   ],
   "source": [
    "#Q5. Write a python program to filter the numbers in a given list that are divisible by 2 and 3 using the\n",
    "#filter function.\n",
    "#[2, 3, 6, 9, 27, 60, 90, 120, 55, 46]\n",
    "#if a number is divisible by 2 and 3 it means that it is divisible by 6\n",
    "list2 = [2,3,6,9,27,60,90,120,55,46]\n",
    "from functools import reduce\n",
    "list(filter(lambda x : x%6 == 0 , list2))"
   ]
  },
  {
   "cell_type": "code",
   "execution_count": 11,
   "id": "6ae14bb4-929b-4e99-b526-89b6d0841d51",
   "metadata": {},
   "outputs": [
    {
     "ename": "TypeError",
     "evalue": "'list' object is not callable",
     "output_type": "error",
     "traceback": [
      "\u001b[0;31m---------------------------------------------------------------------------\u001b[0m",
      "\u001b[0;31mTypeError\u001b[0m                                 Traceback (most recent call last)",
      "Cell \u001b[0;32mIn[11], line 5\u001b[0m\n\u001b[1;32m      1\u001b[0m \u001b[38;5;66;03m#Q6. Write a python program to find palindromes in the given list of strings using lambda and filter\u001b[39;00m\n\u001b[1;32m      2\u001b[0m \u001b[38;5;66;03m#function.\u001b[39;00m\n\u001b[1;32m      3\u001b[0m \u001b[38;5;66;03m#['python', 'php', 'aba', 'radar', 'level']\u001b[39;00m\n\u001b[1;32m      4\u001b[0m list6 \u001b[38;5;241m=\u001b[39m [\u001b[38;5;124m'\u001b[39m\u001b[38;5;124mpython\u001b[39m\u001b[38;5;124m'\u001b[39m , \u001b[38;5;124m'\u001b[39m\u001b[38;5;124mphp\u001b[39m\u001b[38;5;124m'\u001b[39m , \u001b[38;5;124m'\u001b[39m\u001b[38;5;124maba\u001b[39m\u001b[38;5;124m'\u001b[39m , \u001b[38;5;124m'\u001b[39m\u001b[38;5;124mradar\u001b[39m\u001b[38;5;124m'\u001b[39m , \u001b[38;5;124m'\u001b[39m\u001b[38;5;124mlevel\u001b[39m\u001b[38;5;124m'\u001b[39m]\n\u001b[0;32m----> 5\u001b[0m a \u001b[38;5;241m=\u001b[39m (\u001b[38;5;28;43mlist\u001b[39;49m\u001b[43m(\u001b[49m\u001b[38;5;28;43mfilter\u001b[39;49m\u001b[43m(\u001b[49m\u001b[38;5;28;43;01mlambda\u001b[39;49;00m\u001b[43m \u001b[49m\u001b[43mx\u001b[49m\u001b[43m \u001b[49m\u001b[43m:\u001b[49m\u001b[43m \u001b[49m\u001b[43mx\u001b[49m\u001b[43m \u001b[49m\u001b[38;5;241;43m==\u001b[39;49m\u001b[43m \u001b[49m\u001b[43mx\u001b[49m\u001b[43m[\u001b[49m\u001b[43m:\u001b[49m\u001b[43m:\u001b[49m\u001b[38;5;241;43m-\u001b[39;49m\u001b[38;5;241;43m1\u001b[39;49m\u001b[43m]\u001b[49m\u001b[43m \u001b[49m\u001b[43m,\u001b[49m\u001b[43m \u001b[49m\u001b[43mlist6\u001b[49m\u001b[43m)\u001b[49m\u001b[43m)\u001b[49m)\n",
      "\u001b[0;31mTypeError\u001b[0m: 'list' object is not callable"
     ]
    }
   ],
   "source": [
    "#Q6. Write a python program to find palindromes in the given list of strings using lambda and filter\n",
    "#function.\n",
    "#['python', 'php', 'aba', 'radar', 'level']\n",
    "list6 = ['python' , 'php' , 'aba' , 'radar' , 'level']\n",
    "a = (list(filter(lambda x : x == x[::-1] , list6)))"
   ]
  },
  {
   "cell_type": "code",
   "execution_count": 7,
   "id": "595c69fa-f5e7-41c5-84a4-089cc7d6dd18",
   "metadata": {},
   "outputs": [
    {
     "name": "stdout",
     "output_type": "stream",
     "text": [
      "<filter object at 0x7f5b80213be0>\n"
     ]
    }
   ],
   "source": [
    "print(a)"
   ]
  },
  {
   "cell_type": "code",
   "execution_count": 8,
   "id": "d895f43a-4e28-4280-acb7-5a25c5b3265f",
   "metadata": {},
   "outputs": [
    {
     "name": "stdout",
     "output_type": "stream",
     "text": [
      "<filter object at 0x7f5b80213be0>\n"
     ]
    }
   ],
   "source": [
    "print(a)"
   ]
  },
  {
   "cell_type": "code",
   "execution_count": null,
   "id": "66d6a4d3-9994-4955-9cc7-9bdc1f104476",
   "metadata": {},
   "outputs": [],
   "source": []
  }
 ],
 "metadata": {
  "kernelspec": {
   "display_name": "Python 3 (ipykernel)",
   "language": "python",
   "name": "python3"
  },
  "language_info": {
   "codemirror_mode": {
    "name": "ipython",
    "version": 3
   },
   "file_extension": ".py",
   "mimetype": "text/x-python",
   "name": "python",
   "nbconvert_exporter": "python",
   "pygments_lexer": "ipython3",
   "version": "3.10.8"
  }
 },
 "nbformat": 4,
 "nbformat_minor": 5
}
