{
 "cells": [
  {
   "cell_type": "code",
   "execution_count": 1,
   "id": "988f2bf7-cd57-49af-bba1-f6d4db1b0822",
   "metadata": {},
   "outputs": [],
   "source": [
    "#Q1. How do you comment code in Python? What are the different types of comments?\n",
    "#We comment a code in python using \"#\" before the comment\n",
    "#Various types of comments include :\n",
    " # single line comments\n",
    " # multiline comments\n",
    " # doc string : denoted by triple single(''') or triple double quotes(\"\"\") "
   ]
  },
  {
   "cell_type": "code",
   "execution_count": 2,
   "id": "778d322f-b479-4f53-ac60-f88dfc9a8c85",
   "metadata": {},
   "outputs": [],
   "source": [
    "#Q2. What are variables in Python? How do you declare and assign values to variables?\n",
    "# Variable are a container which is used to store a value. A variable basically reserves a memory location in which value can be stored\n",
    "#Variables have different data types depending on the value stored in them : integer(int) , string(str) , boolean(bool), float\n",
    "# declaring and assigning value to  a variable:\n",
    "a = 5;\n",
    "#here variable a has integer value 5 \n",
    "b = 6.87\n",
    "#b has float value\n",
    "c = True # boolean value\n",
    "d = 'maggi' #string value\n",
    "#variable name must begin with an alphabt,number or_ . no special charactrs are allowed"
   ]
  },
  {
   "cell_type": "code",
   "execution_count": 3,
   "id": "b51d7959-59e1-4ad1-9575-5c5f2c6df8b9",
   "metadata": {},
   "outputs": [
    {
     "data": {
      "text/plain": [
       "56"
      ]
     },
     "execution_count": 3,
     "metadata": {},
     "output_type": "execute_result"
    }
   ],
   "source": [
    "#Q3. How do you convert one data type to another in Python?\n",
    "#conversion of one data type into another is known as typecasting\n",
    "#we just use datatype() for type casting where datatype = type of value we want to store in a variable\n",
    "ram = 56.78\n",
    "int(ram)"
   ]
  },
  {
   "cell_type": "code",
   "execution_count": 1,
   "id": "24f0fa75-a1aa-4e71-977a-6d7d07748c3e",
   "metadata": {},
   "outputs": [],
   "source": [
    "#Q4. How do you write and execute a Python script from the command line?\n",
    "#The most basic and easy way to run a Python script is by using the python command. You need to open a command line and type the word python followed by the path to \n",
    "#your script file like this: python first_script.py Hello World! Then you hit the ENTER button from the keyboard, and that's it."
   ]
  },
  {
   "cell_type": "code",
   "execution_count": 5,
   "id": "e3711f61-d7ba-4bbf-9956-ed24d77415d8",
   "metadata": {},
   "outputs": [
    {
     "data": {
      "text/plain": [
       "[2, 3]"
      ]
     },
     "execution_count": 5,
     "metadata": {},
     "output_type": "execute_result"
    }
   ],
   "source": [
    "#Q5. Given a list my_list = [1, 2, 3, 4, 5], write the code to slice the list and obtain the sub-list [2, 3].\n",
    "my_list = [1,2,3,4,5]\n",
    "my_list[1:3]"
   ]
  },
  {
   "cell_type": "code",
   "execution_count": 6,
   "id": "6930977c-17c3-4558-a746-c795afb69d22",
   "metadata": {},
   "outputs": [
    {
     "data": {
      "text/plain": [
       "complex"
      ]
     },
     "execution_count": 6,
     "metadata": {},
     "output_type": "execute_result"
    }
   ],
   "source": [
    "#Q6. What is a complex number in mathematics, and how is it represented in Python?\n",
    "#a number containing real as well as imaginary part is known as a complex number.\n",
    "#it is represented as a + bi where a and b are numbers and i is root of -1\n",
    "#in oython it is denoted by a + bj\n",
    "a = 6 - 3j\n",
    "type(a)"
   ]
  },
  {
   "cell_type": "code",
   "execution_count": 7,
   "id": "2972e1ce-a185-4597-88d1-8429d75443c7",
   "metadata": {},
   "outputs": [],
   "source": [
    "#Q7. What is the correct way to declare a variable named age and assign the value 25 to it?\n",
    "age = 25\n"
   ]
  },
  {
   "cell_type": "code",
   "execution_count": 8,
   "id": "14589c74-611f-467f-a805-3348c2447d81",
   "metadata": {},
   "outputs": [
    {
     "data": {
      "text/plain": [
       "float"
      ]
     },
     "execution_count": 8,
     "metadata": {},
     "output_type": "execute_result"
    }
   ],
   "source": [
    "#Q8. Declare a variable named price and assign the value 9.99 to it. What data type does this variable belong to?\n",
    "price = 9.99\n",
    "type(price)"
   ]
  },
  {
   "cell_type": "code",
   "execution_count": 10,
   "id": "5df957e5-0692-4711-acff-8a1213eb059a",
   "metadata": {},
   "outputs": [
    {
     "name": "stdout",
     "output_type": "stream",
     "text": [
      "Gurleen Kaur\n"
     ]
    },
    {
     "data": {
      "text/plain": [
       "'Gurleen Kaur'"
      ]
     },
     "execution_count": 10,
     "metadata": {},
     "output_type": "execute_result"
    }
   ],
   "source": [
    "#Q9. Create a variable named name and assign your full name to it as a string. How would you print the\n",
    "#value of this variable?\n",
    "name = 'Gurleen Kaur'\n",
    "print(name)\n",
    "name"
   ]
  },
  {
   "cell_type": "code",
   "execution_count": 13,
   "id": "dfdf4f63-5202-46c9-add2-a69af765df2a",
   "metadata": {},
   "outputs": [
    {
     "data": {
      "text/plain": [
       "'World'"
      ]
     },
     "execution_count": 13,
     "metadata": {},
     "output_type": "execute_result"
    }
   ],
   "source": [
    "#Q10. Given the string \"Hello, World!\", extract the substring \"World\".\n",
    "s = 'Hello, World'\n",
    "s[7:12]"
   ]
  },
  {
   "cell_type": "code",
   "execution_count": null,
   "id": "915bf44b-47b3-4f9e-9a1b-f2cab44dd770",
   "metadata": {},
   "outputs": [],
   "source": [
    "#Q11. Create a variable named \"is_student\" and assign it a boolean value indicating whether you are\n",
    "#currently a student or not.\n",
    "is_student = Tr"
   ]
  }
 ],
 "metadata": {
  "kernelspec": {
   "display_name": "Python 3 (ipykernel)",
   "language": "python",
   "name": "python3"
  },
  "language_info": {
   "codemirror_mode": {
    "name": "ipython",
    "version": 3
   },
   "file_extension": ".py",
   "mimetype": "text/x-python",
   "name": "python",
   "nbconvert_exporter": "python",
   "pygments_lexer": "ipython3",
   "version": "3.10.8"
  }
 },
 "nbformat": 4,
 "nbformat_minor": 5
}
