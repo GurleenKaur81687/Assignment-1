{
 "cells": [
  {
   "cell_type": "code",
   "execution_count": 1,
   "id": "1cf636aa-8184-4e32-b4b2-e9b7dec3f830",
   "metadata": {},
   "outputs": [],
   "source": [
    "# Q1. Which keyword is used to create a function? Create a function to return a list of odd numbers in the\n",
    "# range of 1 to 25.\n",
    "\n",
    "# \"def\" keyword is used to create a function\n",
    "\n",
    "def odd(a):\n",
    "    for i in a:\n",
    "        if i%2 != 0 :\n",
    "            print(i)\n",
    "    \n"
   ]
  },
  {
   "cell_type": "code",
   "execution_count": 2,
   "id": "f84f7f37-073e-4c2e-b1d5-703f100e3333",
   "metadata": {},
   "outputs": [
    {
     "name": "stdout",
     "output_type": "stream",
     "text": [
      "1\n",
      "3\n",
      "5\n",
      "7\n",
      "9\n",
      "11\n",
      "13\n",
      "15\n",
      "17\n",
      "19\n",
      "21\n",
      "23\n"
     ]
    }
   ],
   "source": [
    "odd(range(1,25))"
   ]
  },
  {
   "cell_type": "code",
   "execution_count": 3,
   "id": "84a035d5-a1bf-4007-af00-d56a85fba931",
   "metadata": {},
   "outputs": [],
   "source": [
    "#Q2. Why *args and **kwargs is used in some functions? Create a function each for *args and **kwargs\n",
    "#to demonstrate their use."
   ]
  },
  {
   "cell_type": "code",
   "execution_count": 4,
   "id": "2cec8624-76f2-4a4f-91ac-9fa6df75af81",
   "metadata": {},
   "outputs": [],
   "source": [
    "#**rgs are used state that a function can accept multiple arguments\n",
    "def fun1(*args):\n",
    "    yield args"
   ]
  },
  {
   "cell_type": "code",
   "execution_count": 11,
   "id": "702ea976-1683-4874-b55f-7fc13c041e21",
   "metadata": {},
   "outputs": [
    {
     "name": "stdout",
     "output_type": "stream",
     "text": [
      "(5, 7, 6, 4)\n"
     ]
    }
   ],
   "source": [
    "for i in fun1(5,7,6,4):\n",
    "    print(i)"
   ]
  },
  {
   "cell_type": "raw",
   "id": "5fb75a79-8110-490c-b3b0-b4fcc7375fd1",
   "metadata": {},
   "source": [
    "# **kwargs means the a function can accept argumnets in form of dictionary"
   ]
  },
  {
   "cell_type": "code",
   "execution_count": 12,
   "id": "6dcea65a-fdc8-43fc-9a6a-cb2ea5a20a31",
   "metadata": {},
   "outputs": [],
   "source": [
    "#kwargs means that a function can accept arguments in form of dictionary"
   ]
  },
  {
   "cell_type": "code",
   "execution_count": 13,
   "id": "1ae35020-94ed-43ce-a781-3fbd18a10707",
   "metadata": {},
   "outputs": [],
   "source": [
    "def info(**kwargs):\n",
    "    for key,value in kwargs.items():\n",
    "        print(f\"{key} : {value}\")"
   ]
  },
  {
   "cell_type": "code",
   "execution_count": 18,
   "id": "b5d1bf8c-2c12-4011-848b-108a750a5e92",
   "metadata": {},
   "outputs": [
    {
     "name": "stdout",
     "output_type": "stream",
     "text": [
      "name : gurleen\n",
      "age : 20\n",
      "class1 : 15\n"
     ]
    }
   ],
   "source": [
    "info(name='gurleen' , age=20 , class1 = 15)"
   ]
  },
  {
   "cell_type": "code",
   "execution_count": 27,
   "id": "bcd408d5-ae38-489e-a84e-6fdae10409d0",
   "metadata": {},
   "outputs": [],
   "source": [
    "# A program to calculate total price of items in a shopping cart using kwargs\n",
    "def total_price(**kwargs):\n",
    "    total_pricee = 0\n",
    "    for items,price in kwargs.items():\n",
    "        total_pricee += price\n",
    "    return total_pricee"
   ]
  },
  {
   "cell_type": "code",
   "execution_count": 28,
   "id": "e10ebf05-35dc-483f-9247-85f91bb7623e",
   "metadata": {},
   "outputs": [],
   "source": [
    "shopping_list = {'maggi' : 10 , 'cheese' : 90 , 'tofu' : 50}"
   ]
  },
  {
   "cell_type": "code",
   "execution_count": 33,
   "id": "387211c7-e1a3-480d-acfb-cbdffb2f5b25",
   "metadata": {},
   "outputs": [
    {
     "name": "stdout",
     "output_type": "stream",
     "text": [
      "total : 150.00\n"
     ]
    }
   ],
   "source": [
    "total = total_price(**shopping_list)\n",
    "print(f\"total : {total:.2f}\")"
   ]
  },
  {
   "cell_type": "code",
   "execution_count": 35,
   "id": "e6e0849a-973e-4e4b-a5fe-60369dc522eb",
   "metadata": {},
   "outputs": [
    {
     "data": {
      "text/plain": [
       "<str_iterator at 0x7ff18de0ae00>"
      ]
     },
     "execution_count": 35,
     "metadata": {},
     "output_type": "execute_result"
    }
   ],
   "source": [
    "#Q3. What is an iterator in python? Name the method used to initialise the iterator object and the method\n",
    "# used for iteration. Use these methods to print the first five elements of the given list [2, 4, 6, 8, 10, 12, 14,\n",
    "# 16, 18, 20].\n",
    "\n",
    "#An itertor represents the sequence of data and provides a way to access each element one at a time\n",
    "#method used to initialize iterator object is _ _ iter _ _()\n",
    "#Method used for iteration is _ _ next _ _()\n",
    "\n",
    "a = iter('gurleen')\n",
    "a\n"
   ]
  },
  {
   "cell_type": "code",
   "execution_count": 36,
   "id": "9e2a0880-c44e-402d-91a2-8057ee9e5be3",
   "metadata": {},
   "outputs": [
    {
     "data": {
      "text/plain": [
       "'g'"
      ]
     },
     "execution_count": 36,
     "metadata": {},
     "output_type": "execute_result"
    }
   ],
   "source": [
    "next(a)"
   ]
  },
  {
   "cell_type": "code",
   "execution_count": 37,
   "id": "be3bbdd4-158a-472c-a8cc-397c34f4b4d9",
   "metadata": {},
   "outputs": [
    {
     "data": {
      "text/plain": [
       "'u'"
      ]
     },
     "execution_count": 37,
     "metadata": {},
     "output_type": "execute_result"
    }
   ],
   "source": [
    "next(a)"
   ]
  },
  {
   "cell_type": "code",
   "execution_count": 43,
   "id": "1ca9e450-a726-4ce1-91a9-5f767d0e5677",
   "metadata": {},
   "outputs": [
    {
     "data": {
      "text/plain": [
       "2"
      ]
     },
     "execution_count": 43,
     "metadata": {},
     "output_type": "execute_result"
    }
   ],
   "source": [
    "list = [2,4,6,8,10,12,14,16,18.20]\n",
    "list1 = iter(list)\n",
    "next(list1)"
   ]
  },
  {
   "cell_type": "code",
   "execution_count": 44,
   "id": "f22acefa-df33-4b1c-a755-1f18f149faa1",
   "metadata": {},
   "outputs": [
    {
     "data": {
      "text/plain": [
       "4"
      ]
     },
     "execution_count": 44,
     "metadata": {},
     "output_type": "execute_result"
    }
   ],
   "source": [
    "next(list1)"
   ]
  },
  {
   "cell_type": "code",
   "execution_count": 45,
   "id": "f1a92c2d-218b-4011-b3fb-18f9de624068",
   "metadata": {},
   "outputs": [
    {
     "data": {
      "text/plain": [
       "6"
      ]
     },
     "execution_count": 45,
     "metadata": {},
     "output_type": "execute_result"
    }
   ],
   "source": [
    "next(list1)"
   ]
  },
  {
   "cell_type": "code",
   "execution_count": 46,
   "id": "3fadb943-b21b-48ac-af10-a37229f50c62",
   "metadata": {},
   "outputs": [
    {
     "data": {
      "text/plain": [
       "8"
      ]
     },
     "execution_count": 46,
     "metadata": {},
     "output_type": "execute_result"
    }
   ],
   "source": [
    "next(list1)"
   ]
  },
  {
   "cell_type": "code",
   "execution_count": 47,
   "id": "c294850a-5a16-4344-b11c-24a6f12c2f97",
   "metadata": {},
   "outputs": [
    {
     "data": {
      "text/plain": [
       "10"
      ]
     },
     "execution_count": 47,
     "metadata": {},
     "output_type": "execute_result"
    }
   ],
   "source": [
    "next(list1)"
   ]
  },
  {
   "cell_type": "code",
   "execution_count": 50,
   "id": "51c03a91-a55b-4e8b-8322-53c97c6f0222",
   "metadata": {},
   "outputs": [],
   "source": [
    "# Q4. What is a generator function in python? Why yield keyword is used? Give an example of a generator\n",
    "# function.\n",
    "\n",
    "#It is a special type of function that is used to create iterators in a more memory efficient way\n",
    "# Generator functions are defines using yield keyword, it produces iteratable objects and produces values one at a time\n",
    "def count(n):\n",
    "    i = 1;\n",
    "    while i <= n:\n",
    "        yield i\n",
    "        i += 1"
   ]
  },
  {
   "cell_type": "code",
   "execution_count": 51,
   "id": "8f1d5c54-23c1-4c7f-b241-cfa5f79230ca",
   "metadata": {},
   "outputs": [
    {
     "data": {
      "text/plain": [
       "<generator object count at 0x7ff18db46490>"
      ]
     },
     "execution_count": 51,
     "metadata": {},
     "output_type": "execute_result"
    }
   ],
   "source": [
    "count(5)"
   ]
  },
  {
   "cell_type": "code",
   "execution_count": 54,
   "id": "1622d226-9603-445b-85b0-dbaca3cbaf57",
   "metadata": {},
   "outputs": [
    {
     "name": "stdout",
     "output_type": "stream",
     "text": [
      "1\n",
      "2\n",
      "3\n",
      "4\n",
      "5\n"
     ]
    }
   ],
   "source": [
    "for i in count(5):\n",
    "    print(i)"
   ]
  },
  {
   "cell_type": "code",
   "execution_count": 13,
   "id": "bfb19c56-84eb-486b-a3ce-cf6e42816860",
   "metadata": {},
   "outputs": [],
   "source": [
    "# a program for printing fibonacci numbers in python using generator function\n",
    "def fib(n):\n",
    "    a,b = 0,1\n",
    "    for i in range(n):\n",
    "        a,b = b,a+b\n",
    "        yield a"
   ]
  },
  {
   "cell_type": "code",
   "execution_count": 3,
   "id": "974a3ab8-7b17-4613-bdc8-071021fa0c41",
   "metadata": {},
   "outputs": [],
   "source": [
    "p = fib(5)"
   ]
  },
  {
   "cell_type": "code",
   "execution_count": 8,
   "id": "76da7fbc-ffe2-48ba-88a5-e33cea20824d",
   "metadata": {},
   "outputs": [],
   "source": [
    "for i in p:\n",
    "    print(i)"
   ]
  },
  {
   "cell_type": "code",
   "execution_count": 14,
   "id": "f2d6222e-0e2b-4e98-9abe-7221e592bc1b",
   "metadata": {},
   "outputs": [
    {
     "name": "stdout",
     "output_type": "stream",
     "text": [
      "1\n",
      "1\n",
      "2\n",
      "3\n",
      "5\n",
      "8\n"
     ]
    }
   ],
   "source": [
    "for i in fib(6):\n",
    "    print(i)"
   ]
  },
  {
   "cell_type": "code",
   "execution_count": 33,
   "id": "343cabd1-98da-4fae-a36f-3703d2a95d93",
   "metadata": {},
   "outputs": [],
   "source": [
    "#Q5. Create a generator function for prime numbers less than 1000. Use the next() method to print the\n",
    "#first 20 prime numbers.\n",
    "\n",
    "def prime(n):\n",
    "    for i in range(2,n):\n",
    "        count = 0\n",
    "        for j in range(2,i):\n",
    "            if i % j == 0:\n",
    "                count = 1\n",
    "                break\n",
    "        if count == 0:\n",
    "            yield i\n",
    "            "
   ]
  },
  {
   "cell_type": "code",
   "execution_count": 36,
   "id": "7e9aefc0-98ed-44ab-94b6-12289c3b9fb9",
   "metadata": {},
   "outputs": [
    {
     "name": "stdout",
     "output_type": "stream",
     "text": [
      "2\n",
      "3\n",
      "5\n",
      "7\n",
      "11\n",
      "13\n",
      "17\n",
      "19\n",
      "23\n",
      "29\n",
      "31\n",
      "37\n",
      "41\n",
      "43\n",
      "47\n",
      "53\n",
      "59\n",
      "61\n",
      "67\n",
      "71\n",
      "73\n",
      "79\n",
      "83\n",
      "89\n",
      "97\n",
      "101\n",
      "103\n",
      "107\n",
      "109\n",
      "113\n",
      "127\n",
      "131\n",
      "137\n",
      "139\n",
      "149\n",
      "151\n",
      "157\n",
      "163\n",
      "167\n",
      "173\n",
      "179\n",
      "181\n",
      "191\n",
      "193\n",
      "197\n",
      "199\n",
      "211\n",
      "223\n",
      "227\n",
      "229\n",
      "233\n",
      "239\n",
      "241\n",
      "251\n",
      "257\n",
      "263\n",
      "269\n",
      "271\n",
      "277\n",
      "281\n",
      "283\n",
      "293\n",
      "307\n",
      "311\n",
      "313\n",
      "317\n",
      "331\n",
      "337\n",
      "347\n",
      "349\n",
      "353\n",
      "359\n",
      "367\n",
      "373\n",
      "379\n",
      "383\n",
      "389\n",
      "397\n",
      "401\n",
      "409\n",
      "419\n",
      "421\n",
      "431\n",
      "433\n",
      "439\n",
      "443\n",
      "449\n",
      "457\n",
      "461\n",
      "463\n",
      "467\n",
      "479\n",
      "487\n",
      "491\n",
      "499\n",
      "503\n",
      "509\n",
      "521\n",
      "523\n",
      "541\n",
      "547\n",
      "557\n",
      "563\n",
      "569\n",
      "571\n",
      "577\n",
      "587\n",
      "593\n",
      "599\n",
      "601\n",
      "607\n",
      "613\n",
      "617\n",
      "619\n",
      "631\n",
      "641\n",
      "643\n",
      "647\n",
      "653\n",
      "659\n",
      "661\n",
      "673\n",
      "677\n",
      "683\n",
      "691\n",
      "701\n",
      "709\n",
      "719\n",
      "727\n",
      "733\n",
      "739\n",
      "743\n",
      "751\n",
      "757\n",
      "761\n",
      "769\n",
      "773\n",
      "787\n",
      "797\n",
      "809\n",
      "811\n",
      "821\n",
      "823\n",
      "827\n",
      "829\n",
      "839\n",
      "853\n",
      "857\n",
      "859\n",
      "863\n",
      "877\n",
      "881\n",
      "883\n",
      "887\n",
      "907\n",
      "911\n",
      "919\n",
      "929\n",
      "937\n",
      "941\n",
      "947\n",
      "953\n",
      "967\n",
      "971\n",
      "977\n",
      "983\n",
      "991\n",
      "997\n"
     ]
    }
   ],
   "source": [
    "for i in prime(1000):\n",
    "    print(i)"
   ]
  },
  {
   "cell_type": "code",
   "execution_count": 39,
   "id": "96142053-633b-42bd-9fb1-236e17bb1a67",
   "metadata": {},
   "outputs": [],
   "source": [
    "a = iter(prime(72))"
   ]
  },
  {
   "cell_type": "code",
   "execution_count": 40,
   "id": "14641565-b26e-4dbe-866e-fd236b230bdf",
   "metadata": {},
   "outputs": [
    {
     "data": {
      "text/plain": [
       "2"
      ]
     },
     "execution_count": 40,
     "metadata": {},
     "output_type": "execute_result"
    }
   ],
   "source": [
    "next(a)"
   ]
  },
  {
   "cell_type": "code",
   "execution_count": 41,
   "id": "8f1e1e7d-040b-4eb0-a9c1-43f7e1378131",
   "metadata": {},
   "outputs": [
    {
     "data": {
      "text/plain": [
       "3"
      ]
     },
     "execution_count": 41,
     "metadata": {},
     "output_type": "execute_result"
    }
   ],
   "source": [
    "next(a)"
   ]
  },
  {
   "cell_type": "code",
   "execution_count": 42,
   "id": "f775c7d3-0429-41e1-97a1-ae708f70bb45",
   "metadata": {},
   "outputs": [
    {
     "data": {
      "text/plain": [
       "5"
      ]
     },
     "execution_count": 42,
     "metadata": {},
     "output_type": "execute_result"
    }
   ],
   "source": [
    "next(a)"
   ]
  },
  {
   "cell_type": "code",
   "execution_count": 44,
   "id": "934666a5-33db-4066-aca8-8908e214bd49",
   "metadata": {},
   "outputs": [
    {
     "data": {
      "text/plain": [
       "7"
      ]
     },
     "execution_count": 44,
     "metadata": {},
     "output_type": "execute_result"
    }
   ],
   "source": [
    "next(a)"
   ]
  },
  {
   "cell_type": "code",
   "execution_count": 45,
   "id": "1936d12a-0a26-49a1-8731-f242aca4209e",
   "metadata": {},
   "outputs": [],
   "source": [
    "#Q6. Write a python program to print the first 10 Fibonacci numbers using a while loop."
   ]
  },
  {
   "cell_type": "code",
   "execution_count": 47,
   "id": "279a4dec-3fdc-47ab-82f4-c0f934fd7561",
   "metadata": {},
   "outputs": [
    {
     "name": "stdout",
     "output_type": "stream",
     "text": [
      "0\n",
      "1\n",
      "1\n",
      "2\n",
      "3\n",
      "5\n",
      "8\n",
      "13\n",
      "21\n",
      "34\n"
     ]
    }
   ],
   "source": [
    "count = 0\n",
    "a,b = 0,1\n",
    "while count < 10:\n",
    "    print(a)\n",
    "    a,b = b,a+b\n",
    "    count += 1\n",
    "    "
   ]
  },
  {
   "cell_type": "code",
   "execution_count": 52,
   "id": "219d6d38-8b5a-42c8-994a-8279356d668f",
   "metadata": {},
   "outputs": [
    {
     "data": {
      "text/plain": [
       "['p', 'w', 's', 'k', 'i', 'l', 'l', 's']"
      ]
     },
     "execution_count": 52,
     "metadata": {},
     "output_type": "execute_result"
    }
   ],
   "source": [
    "#Q7. Write a List Comprehension to iterate through the given string: ‘pwskills’.\n",
    "#Expected output: ['p', 'w', 's', 'k', 'i', 'l', 'l', 's']\n",
    "a = \"pwskills\"\n",
    "list(a)\n"
   ]
  },
  {
   "cell_type": "code",
   "execution_count": 8,
   "id": "609f192b-b0f0-4190-93c4-7784d3408d37",
   "metadata": {},
   "outputs": [],
   "source": [
    "#Q8. Write a python program to check whether a given number is Palindrome or not using a while loop.\n",
    "\n",
    "def palindrome(a):\n",
    "    \n",
    "    i = 0\n",
    "    j = len(a) - 1\n",
    "    while i < j :\n",
    "        if a[i] != a[j]:\n",
    "            return False\n",
    "            break\n",
    "        else :\n",
    "            return True\n",
    "        i += 1\n",
    "        j -= 1\n",
    "\n",
    "    if palindrome(a) == True:\n",
    "        print(f\"{a} is palindrome\")\n",
    "    else :\n",
    "        print(f\"{a} is not a palindrome\")\n",
    "            "
   ]
  },
  {
   "cell_type": "code",
   "execution_count": 9,
   "id": "1596ca9f-783a-4ea6-ac84-3f79344700f2",
   "metadata": {},
   "outputs": [
    {
     "data": {
      "text/plain": [
       "False"
      ]
     },
     "execution_count": 9,
     "metadata": {},
     "output_type": "execute_result"
    }
   ],
   "source": [
    "palindrome(\"maggi\")"
   ]
  },
  {
   "cell_type": "code",
   "execution_count": 10,
   "id": "07a55778-d1d0-40a6-a5ee-34dbf88239c8",
   "metadata": {},
   "outputs": [
    {
     "data": {
      "text/plain": [
       "True"
      ]
     },
     "execution_count": 10,
     "metadata": {},
     "output_type": "execute_result"
    }
   ],
   "source": [
    "palindrome(\"chipihc\")"
   ]
  },
  {
   "cell_type": "code",
   "execution_count": 14,
   "id": "cfd3491b-da56-41a8-a77b-07270310cbfb",
   "metadata": {},
   "outputs": [],
   "source": [
    "# Q9. Write a code to print odd numbers from 1 to 100 using list comprehension.\n",
    "list1 = list(range(1,101))\n",
    "list2 = list(filter(lambda x : x % 2 != 0 , list1))"
   ]
  },
  {
   "cell_type": "code",
   "execution_count": 13,
   "id": "950a76d0-3ec1-412c-97cd-05f3de27bec1",
   "metadata": {},
   "outputs": [
    {
     "name": "stdout",
     "output_type": "stream",
     "text": [
      "[1, 2, 3, 4, 5, 6, 7, 8, 9, 10, 11, 12, 13, 14, 15, 16, 17, 18, 19, 20, 21, 22, 23, 24, 25, 26, 27, 28, 29, 30, 31, 32, 33, 34, 35, 36, 37, 38, 39, 40, 41, 42, 43, 44, 45, 46, 47, 48, 49, 50, 51, 52, 53, 54, 55, 56, 57, 58, 59, 60, 61, 62, 63, 64, 65, 66, 67, 68, 69, 70, 71, 72, 73, 74, 75, 76, 77, 78, 79, 80, 81, 82, 83, 84, 85, 86, 87, 88, 89, 90, 91, 92, 93, 94, 95, 96, 97, 98, 99, 100]\n"
     ]
    }
   ],
   "source": [
    "print(list1)\n"
   ]
  },
  {
   "cell_type": "code",
   "execution_count": 16,
   "id": "33727368-8de2-45e1-8832-94111f4e0031",
   "metadata": {},
   "outputs": [
    {
     "name": "stdout",
     "output_type": "stream",
     "text": [
      "[1, 3, 5, 7, 9, 11, 13, 15, 17, 19, 21, 23, 25, 27, 29, 31, 33, 35, 37, 39, 41, 43, 45, 47, 49, 51, 53, 55, 57, 59, 61, 63, 65, 67, 69, 71, 73, 75, 77, 79, 81, 83, 85, 87, 89, 91, 93, 95, 97, 99]\n"
     ]
    }
   ],
   "source": [
    "print(list2)"
   ]
  },
  {
   "cell_type": "code",
   "execution_count": null,
   "id": "5417be50-7965-4c11-9b77-496bb524b818",
   "metadata": {},
   "outputs": [],
   "source": []
  }
 ],
 "metadata": {
  "kernelspec": {
   "display_name": "Python 3 (ipykernel)",
   "language": "python",
   "name": "python3"
  },
  "language_info": {
   "codemirror_mode": {
    "name": "ipython",
    "version": 3
   },
   "file_extension": ".py",
   "mimetype": "text/x-python",
   "name": "python",
   "nbconvert_exporter": "python",
   "pygments_lexer": "ipython3",
   "version": "3.10.8"
  }
 },
 "nbformat": 4,
 "nbformat_minor": 5
}
