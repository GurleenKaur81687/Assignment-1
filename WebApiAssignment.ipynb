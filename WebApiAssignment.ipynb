{
 "cells": [
  {
   "cell_type": "code",
   "execution_count": 1,
   "id": "ec971529-f37d-486f-a526-9da928114b3a",
   "metadata": {},
   "outputs": [],
   "source": [
    "#Qs 1 API = API stands for Application Program Interface. It helps two homogeneous or heterogeneous applications to interact with each other\n",
    "#mechanism that enables two softwares to communicate with each other using protocols and through request and responses\n",
    "\n",
    "#example - chatgpt api , google api , youtube api etc.\n",
    "\n",
    "#real life examples weather api when the weather application on our phone interacts with weather database and updates result"
   ]
  },
  {
   "cell_type": "code",
   "execution_count": 2,
   "id": "09d10975-dd8e-4f42-81a9-c6a47860f264",
   "metadata": {},
   "outputs": [],
   "source": [
    "#Qs 2#Advantages of API : increase visibility , increase traffic , seamless interation , increased efficiency , easy maintainence and reduced costs\n",
    "# Disadvantages of API :-security risks , increased dependency , increased complexity"
   ]
  },
  {
   "cell_type": "code",
   "execution_count": 3,
   "id": "2f96e656-0478-4a60-b8df-74f147c9d973",
   "metadata": {},
   "outputs": [],
   "source": [
    "# Qs 3 Web API is used for applications on web . it uses http protocol\n",
    "# difference between api and web api is that api use tcp/ip or smtp protocol etc whereas web apis use http protocol"
   ]
  },
  {
   "cell_type": "code",
   "execution_count": 4,
   "id": "d925f8e4-da56-433d-8cbb-c63c6943e36d",
   "metadata": {},
   "outputs": [],
   "source": [
    "#Qs 4 REST architecture :- Representational State Transfer protocol , build on services using http , fexible , scalable and stateless\n",
    "# SOAP architecture :- Simple object access protocol , communicates through XML and not much flexible"
   ]
  },
  {
   "cell_type": "code",
   "execution_count": null,
   "id": "900dc38d-5a96-4c81-a806-1599a4efbc31",
   "metadata": {},
   "outputs": [],
   "source": [
    "#Qs 5 Difference between rest and soap\n",
    "#SOAP follows strict standards for communication whereas REST follows fixed six constraints\n",
    "#SOAP uses only xml whereas rest uses more things like xml and "
   ]
  }
 ],
 "metadata": {
  "kernelspec": {
   "display_name": "Python 3 (ipykernel)",
   "language": "python",
   "name": "python3"
  },
  "language_info": {
   "codemirror_mode": {
    "name": "ipython",
    "version": 3
   },
   "file_extension": ".py",
   "mimetype": "text/x-python",
   "name": "python",
   "nbconvert_exporter": "python",
   "pygments_lexer": "ipython3",
   "version": "3.10.8"
  }
 },
 "nbformat": 4,
 "nbformat_minor": 5
}
