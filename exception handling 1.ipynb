{
 "cells": [
  {
   "cell_type": "code",
   "execution_count": 1,
   "id": "341c8a36-a4e7-4368-b66a-b82e9b70f505",
   "metadata": {},
   "outputs": [],
   "source": [
    "# try to incorporate logging and exception handling in every code"
   ]
  },
  {
   "cell_type": "code",
   "execution_count": 2,
   "id": "73cb78a4-ea8c-41d2-b816-d86de3fa1ce0",
   "metadata": {},
   "outputs": [],
   "source": [
    "import logging"
   ]
  },
  {
   "cell_type": "code",
   "execution_count": 3,
   "id": "20ed2348-aba6-4421-8df8-449018f9c7b9",
   "metadata": {},
   "outputs": [],
   "source": [
    "logging.basicConfig(filename = \"exceptionhandling1.log\" , level = logging.DEBUG)"
   ]
  },
  {
   "cell_type": "code",
   "execution_count": 4,
   "id": "d8d31828-43e3-422f-b7c4-716c470c2926",
   "metadata": {},
   "outputs": [],
   "source": [
    "#Q1. exception\n",
    "# An exception is problem that arises during the execution of a program and disrupts the flow of the program. Exceptions dont stop the proram from execution and can be handled using a mechanism\n",
    "#difference between exceptions and syntax errors\n",
    "#exceptions are more of a logical error but syntax errors dont let the program execute and arise due to improper syntax "
   ]
  },
  {
   "cell_type": "code",
   "execution_count": 6,
   "id": "42f05ba2-cd5c-4d6d-b6a9-06b71c45e0cb",
   "metadata": {},
   "outputs": [
    {
     "ename": "ZeroDivisionError",
     "evalue": "division by zero",
     "output_type": "error",
     "traceback": [
      "\u001b[0;31m---------------------------------------------------------------------------\u001b[0m",
      "\u001b[0;31mZeroDivisionError\u001b[0m                         Traceback (most recent call last)",
      "Cell \u001b[0;32mIn[6], line 5\u001b[0m\n\u001b[1;32m      1\u001b[0m \u001b[38;5;66;03m# Q2 Exception is not handles\u001b[39;00m\n\u001b[1;32m      2\u001b[0m \u001b[38;5;66;03m#it leads to undesireable behavior and may stop execution of program , may leak rsources and cause security threats as well\u001b[39;00m\n\u001b[1;32m      3\u001b[0m \u001b[38;5;66;03m#example \u001b[39;00m\n\u001b[1;32m      4\u001b[0m a \u001b[38;5;241m=\u001b[39m \u001b[38;5;241m10\u001b[39m\n\u001b[0;32m----> 5\u001b[0m \u001b[43ma\u001b[49m\u001b[38;5;241;43m/\u001b[39;49m\u001b[38;5;241;43m0\u001b[39;49m  \u001b[38;5;66;03m#ZeroDivisionError has occured and program execution has stopped\u001b[39;00m\n",
      "\u001b[0;31mZeroDivisionError\u001b[0m: division by zero"
     ]
    }
   ],
   "source": [
    "# Q2 Exception is not handles\n",
    "#it leads to undesireable behavior and may stop execution of program , may leak rsources and cause security threats as well\n",
    "#example \n",
    "a = 10\n",
    "a/0  #ZeroDivisionError has occured and program execution has stopped"
   ]
  },
  {
   "cell_type": "code",
   "execution_count": 9,
   "id": "b1b9d819-529a-4b93-9a83-915b91f76580",
   "metadata": {},
   "outputs": [
    {
     "name": "stdout",
     "output_type": "stream",
     "text": [
      "cannot divide division by zero\n"
     ]
    }
   ],
   "source": [
    "#Q3. python statements used to catch and handle exceptions\n",
    "# try and except statements\n",
    "try :\n",
    "    logging.info(\"this code is erroraneous\")\n",
    "    a = 10\n",
    "    a/0\n",
    "    a/2\n",
    "except ZeroDivisionError as e:\n",
    "    print(\"cannot divide\" ,e)\n",
    "    logging.debug(\"this code did not execute\")"
   ]
  },
  {
   "cell_type": "code",
   "execution_count": 12,
   "id": "2fab1918-aaa6-4d03-9ae0-0541764ad9d5",
   "metadata": {},
   "outputs": [
    {
     "name": "stdout",
     "output_type": "stream",
     "text": [
      "no such file exists [Errno 2] No such file or directory: 'test.txt'\n"
     ]
    }
   ],
   "source": [
    "#example 2\n",
    "try :\n",
    "    logging.info(\"checking if the following file will execute\")\n",
    "    with open(\"test.txt\" , \"r\"):\n",
    "        test.read()\n",
    "except Exception as e:\n",
    "    print(\"no such file exists\" ,e)\n",
    "    logging.debug(\"sorry! the file did not execute\")"
   ]
  },
  {
   "cell_type": "code",
   "execution_count": 1,
   "id": "c763e859-57ee-4eaa-9b3b-e5e89b012f02",
   "metadata": {},
   "outputs": [],
   "source": [
    "#qs 4 try and else"
   ]
  },
  {
   "cell_type": "code",
   "execution_count": 3,
   "id": "5155f940-98f4-43b6-98bc-2f547d576dc8",
   "metadata": {},
   "outputs": [],
   "source": [
    "import logging\n",
    "logging.basicConfig(filename = \"exceptionhandling1.log\" , level = logging.DEBUG)"
   ]
  },
  {
   "cell_type": "code",
   "execution_count": 9,
   "id": "db198ed4-4fc8-4224-bbb7-1a2d37134edf",
   "metadata": {},
   "outputs": [
    {
     "name": "stdin",
     "output_type": "stream",
     "text": [
      "enter 1st number 8\n",
      "enter second number l\n"
     ]
    },
    {
     "name": "stdout",
     "output_type": "stream",
     "text": [
      "cannot add two non integer values invalid literal for int() with base 10: 'l'\n"
     ]
    }
   ],
   "source": [
    "try :\n",
    "    logging.info(\"i am writing a code to add two numbers\")\n",
    "    a = int(input(\"enter 1st number\"))\n",
    "    b = int(input(\"enter second number\"))\n",
    "    print(a+b)\n",
    "except ValueError as e:\n",
    "        print(\"cannot add two non integer values\" ,e) \n",
    "        logging.error(\"inputs cannot be added\")"
   ]
  },
  {
   "cell_type": "code",
   "execution_count": 10,
   "id": "e600dccc-fc48-444e-9831-b5919f28b29b",
   "metadata": {},
   "outputs": [],
   "source": [
    "# finally block"
   ]
  },
  {
   "cell_type": "code",
   "execution_count": 12,
   "id": "7e5187a4-66ac-444c-b642-e90a2e80fc09",
   "metadata": {},
   "outputs": [
    {
     "name": "stdin",
     "output_type": "stream",
     "text": [
      "enter list index 58\n"
     ]
    },
    {
     "name": "stdout",
     "output_type": "stream",
     "text": [
      "index not found <class 'IndexError'>\n"
     ]
    }
   ],
   "source": [
    "try :\n",
    "    logging.info(\"accessing list elements\")\n",
    "    #IndexError exception\n",
    "    i = int(input(\"enter list index\"))\n",
    "    a = [5,4,79,3,5,2]\n",
    "    print(a[i])\n",
    "except :\n",
    "    logging.error(\"invalid index\")\n",
    "    print(\"index not found\" , IndexError)"
   ]
  },
  {
   "cell_type": "code",
   "execution_count": 1,
   "id": "9290535b-b518-4d98-bdf0-89269ab25b8c",
   "metadata": {},
   "outputs": [],
   "source": [
    "# raise"
   ]
  },
  {
   "cell_type": "code",
   "execution_count": 6,
   "id": "b2e075ec-7c82-419d-83ca-1114c7531c03",
   "metadata": {},
   "outputs": [
    {
     "name": "stdin",
     "output_type": "stream",
     "text": [
      "enter percentage 89\n",
      "enter marks scored 456\n",
      "enter maximum marks 500\n"
     ]
    },
    {
     "name": "stdout",
     "output_type": "stream",
     "text": [
      "incorrect percentage\n"
     ]
    }
   ],
   "source": [
    "import logging\n",
    "logging.basicConfig(filename = \"exceptionhandling1.log\" , level = logging.DEBUG)\n",
    "class customexception(Exception):\n",
    "    logging.info(\"this is my custom exception class\")\n",
    "    def __init__(self,msg):\n",
    "        self.msg = msg\n",
    "        \n",
    "def cexception(a,b,c):\n",
    "    logging.info(\"here i am defining why an exception is ocuring\")\n",
    "    if a != (b/c)*100:\n",
    "        raise customexception(\"incorrect percentage\")\n",
    "        \n",
    "try :\n",
    "    logging.info(\"trying the code for exception\")\n",
    "    a = int(input(\"enter percentage\"))\n",
    "    b = int(input(\"enter marks scored\"))\n",
    "    c = int(input(\"enter maximum marks\"))\n",
    "    cexception(a,b,c)\n",
    "except customexception as e:\n",
    "    logging.error(\"oops, exception has occured\")\n",
    "    print(e)\n",
    "else :\n",
    "    logging.info(\"code executed successfully\")\n",
    "    print(\"you have entered correct marks\")"
   ]
  },
  {
   "cell_type": "code",
   "execution_count": 7,
   "id": "fe9a097e-4ccf-4e29-850b-b340c52cda62",
   "metadata": {},
   "outputs": [],
   "source": [
    "# custom exceptions\n",
    "#those exceptions which are self designed by the user\n",
    "#example\n",
    "#to add two 2 digit numbers\n"
   ]
  },
  {
   "cell_type": "code",
   "execution_count": 12,
   "id": "38b4fedd-4002-4b50-8801-7bf27afd0dc2",
   "metadata": {},
   "outputs": [
    {
     "name": "stdin",
     "output_type": "stream",
     "text": [
      "enter a two digit number 566\n",
      "enter seconf two digit number 56\n"
     ]
    },
    {
     "name": "stdout",
     "output_type": "stream",
     "text": [
      "622\n"
     ]
    }
   ],
   "source": [
    "class addition(Exception):\n",
    "    def __init__(self, msg):\n",
    "        self.msg = msg\n",
    "    \n",
    "def add2digit(a,b):\n",
    "    if((len(str(a))) != 2 and (len(str(b))) != 2 ) :\n",
    "        raise addition(\"please enter 2 digit integers\")\n",
    "\n",
    "try :\n",
    "    a = int(input(\"enter a two digit number\"))\n",
    "    b = int(input(\"enter seconf two digit number\"))\n",
    "    add2digit(a,b)\n",
    "except addition as e:\n",
    "    print(e)\n",
    "else :\n",
    "    print(a+b)\n",
    "                                "
   ]
  },
  {
   "cell_type": "code",
   "execution_count": null,
   "id": "56d741d9-c9cd-480c-bbef-26bf9c1e7d9a",
   "metadata": {},
   "outputs": [],
   "source": []
  }
 ],
 "metadata": {
  "kernelspec": {
   "display_name": "Python 3 (ipykernel)",
   "language": "python",
   "name": "python3"
  },
  "language_info": {
   "codemirror_mode": {
    "name": "ipython",
    "version": 3
   },
   "file_extension": ".py",
   "mimetype": "text/x-python",
   "name": "python",
   "nbconvert_exporter": "python",
   "pygments_lexer": "ipython3",
   "version": "3.10.8"
  }
 },
 "nbformat": 4,
 "nbformat_minor": 5
}
