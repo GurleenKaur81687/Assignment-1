{
 "cells": [
  {
   "cell_type": "code",
   "execution_count": 4,
   "id": "a6617dfa-dea6-4849-ba91-0cc6f9750760",
   "metadata": {},
   "outputs": [],
   "source": [
    "#create a variable with the following data type\n",
    "#string\n",
    "a = 'gurleen'\n",
    "#list\n",
    "b = [1,567,90.08,'apple',89j]\n",
    "#float\n",
    "c = 90.45\n",
    "#tuple\n",
    "d = (89,45,'pink',90j)\n"
   ]
  },
  {
   "cell_type": "code",
   "execution_count": 5,
   "id": "68398e6e-4ed6-40ac-a846-983e3df14f62",
   "metadata": {},
   "outputs": [
    {
     "data": {
      "text/plain": [
       "str"
      ]
     },
     "execution_count": 5,
     "metadata": {},
     "output_type": "execute_result"
    }
   ],
   "source": [
    "# determine data type of the following\n",
    "var1= ''\n",
    "type(var1)"
   ]
  },
  {
   "cell_type": "code",
   "execution_count": 7,
   "id": "93234a35-2999-4c4f-a727-7ddaee1ebf65",
   "metadata": {},
   "outputs": [
    {
     "data": {
      "text/plain": [
       "str"
      ]
     },
     "execution_count": 7,
     "metadata": {},
     "output_type": "execute_result"
    }
   ],
   "source": [
    "var2 = '[ DS , ML , Python]'\n",
    "type(var2)"
   ]
  },
  {
   "cell_type": "code",
   "execution_count": 9,
   "id": "cc66835e-394a-4f38-bbaa-4f47eaa75a5f",
   "metadata": {},
   "outputs": [
    {
     "data": {
      "text/plain": [
       "list"
      ]
     },
     "execution_count": 9,
     "metadata": {},
     "output_type": "execute_result"
    }
   ],
   "source": [
    "var3 = [ 'DS' , 'ML' , 'Python' ]\n",
    "type(var3)"
   ]
  },
  {
   "cell_type": "code",
   "execution_count": 10,
   "id": "12cda399-4e30-4520-a1e1-c1e76e80ab68",
   "metadata": {},
   "outputs": [
    {
     "data": {
      "text/plain": [
       "int"
      ]
     },
     "execution_count": 10,
     "metadata": {},
     "output_type": "execute_result"
    }
   ],
   "source": [
    "var4 = 1\n",
    "type(var4)"
   ]
  },
  {
   "cell_type": "code",
   "execution_count": 11,
   "id": "db4c7a3a-02bb-4624-b8dd-8c24abd4811b",
   "metadata": {},
   "outputs": [],
   "source": [
    "#Explain following operators with an example\n",
    "# / : division operator. used to divide two numbers\n",
    "a = 8/6"
   ]
  },
  {
   "cell_type": "code",
   "execution_count": 12,
   "id": "40adf733-6710-43a4-bfc0-62503888a08b",
   "metadata": {},
   "outputs": [
    {
     "data": {
      "text/plain": [
       "1.3333333333333333"
      ]
     },
     "execution_count": 12,
     "metadata": {},
     "output_type": "execute_result"
    }
   ],
   "source": [
    "a"
   ]
  },
  {
   "cell_type": "code",
   "execution_count": 15,
   "id": "6f5ee9bc-87d0-4a91-bdc0-77d9c0bae916",
   "metadata": {},
   "outputs": [
    {
     "data": {
      "text/plain": [
       "1"
      ]
     },
     "execution_count": 15,
     "metadata": {},
     "output_type": "execute_result"
    }
   ],
   "source": [
    "# % : modulo operator. prints remainder\n",
    "b = 8%7\n",
    "b"
   ]
  },
  {
   "cell_type": "code",
   "execution_count": 18,
   "id": "56ec0db5-a7a1-4f0f-ad18-ce9980b58900",
   "metadata": {},
   "outputs": [
    {
     "data": {
      "text/plain": [
       "9"
      ]
     },
     "execution_count": 18,
     "metadata": {},
     "output_type": "execute_result"
    }
   ],
   "source": [
    "# // : floor division. used to divide and show it without the decimal part\n",
    "c = 99//10\n",
    "c"
   ]
  },
  {
   "cell_type": "code",
   "execution_count": 19,
   "id": "c71687f8-548b-4569-9c1f-dd7eb1facc20",
   "metadata": {},
   "outputs": [
    {
     "data": {
      "text/plain": [
       "64"
      ]
     },
     "execution_count": 19,
     "metadata": {},
     "output_type": "execute_result"
    }
   ],
   "source": [
    "# ** : power/exponent. used to multiple a number by itself n number of times\n",
    "d = 4**3\n",
    "d"
   ]
  },
  {
   "cell_type": "code",
   "execution_count": 1,
   "id": "2de3bdfb-176b-460f-8c6d-67962b1a391e",
   "metadata": {},
   "outputs": [
    {
     "name": "stdout",
     "output_type": "stream",
     "text": [
      "data type of  34 is <class 'int'>\n",
      "data type of  orange is <class 'str'>\n",
      "data type of  67j is <class 'complex'>\n",
      "data type of  90.87 is <class 'float'>\n",
      "data type of  raj is <class 'str'>\n",
      "data type of  54 is <class 'int'>\n",
      "data type of  (34.9+4.3j) is <class 'complex'>\n",
      "data type of  True is <class 'bool'>\n",
      "data type of  345 is <class 'int'>\n",
      "data type of  ['blue', 'purple'] is <class 'list'>\n"
     ]
    }
   ],
   "source": [
    "# create a list of lenth 10 using nultiple data types and using for loop print element + data type\n",
    "l = [34,'orange',67j,90.87,'raj',54,34.9+4.3j,True,345,['blue' , 'purple']]\n",
    "\n",
    "for i in l : \n",
    "    print(f'data type of  {i} is {(type(i))}')"
   ]
  },
  {
   "cell_type": "code",
   "execution_count": null,
   "id": "0f2d1928-2472-486e-91f1-8e22814865f7",
   "metadata": {},
   "outputs": [],
   "source": [
    "# Using a while loop, verify if the number A is purely divisible by number B and if so then how many\n",
    "# times it can be divisible."
   ]
  },
  {
   "cell_type": "code",
   "execution_count": null,
   "id": "743691f7-75e1-412c-b585-e6c93aaf5ea3",
   "metadata": {},
   "outputs": [],
   "source": [
    "A = int(input(\"enter a number : \"))\n",
    "B = int(input(\"enter another number : \"))\n",
    "count = 0\n",
    "\n",
    "while A % B == 0:\n",
    "    A = A/B\n",
    "    count = count + 1\n",
    "    c = A\n",
    "if A==1 :\n",
    "    print(f\"{c} is purely divisible by {B}\")\n",
    "else :\n",
    "    print(f\"{c} is not purely divisible by {B}\")\n",
    "    \n",
    "\n",
    "     "
   ]
  },
  {
   "cell_type": "code",
   "execution_count": 3,
   "id": "86cfe740-005a-4877-91c1-04bafde03591",
   "metadata": {},
   "outputs": [
    {
     "data": {
      "text/plain": [
       "[5,\n",
       " 10,\n",
       " 15,\n",
       " 20,\n",
       " 25,\n",
       " 30,\n",
       " 35,\n",
       " 40,\n",
       " 45,\n",
       " 50,\n",
       " 55,\n",
       " 60,\n",
       " 65,\n",
       " 70,\n",
       " 75,\n",
       " 80,\n",
       " 85,\n",
       " 90,\n",
       " 95,\n",
       " 100,\n",
       " 105,\n",
       " 110,\n",
       " 115,\n",
       " 120]"
      ]
     },
     "execution_count": 3,
     "metadata": {},
     "output_type": "execute_result"
    }
   ],
   "source": [
    "# Create a list containing 25 int type data. Using for loop and if-else condition print if the element is\n",
    "# divisible by 3 or not.\n",
    "\n",
    "l = []\n",
    "i = 1\n",
    "while i<25 :\n",
    "    l.append(i*5)\n",
    "    i+=1\n",
    "\n",
    "\n"
   ]
  },
  {
   "cell_type": "code",
   "execution_count": 4,
   "id": "c9695202-939a-4828-b546-ed0d397d33ef",
   "metadata": {},
   "outputs": [
    {
     "name": "stdout",
     "output_type": "stream",
     "text": [
      "no\n",
      "no\n",
      "yes\n",
      "no\n",
      "no\n",
      "yes\n",
      "no\n",
      "no\n",
      "yes\n",
      "no\n",
      "no\n",
      "yes\n",
      "no\n",
      "no\n",
      "yes\n",
      "no\n",
      "no\n",
      "yes\n",
      "no\n",
      "no\n",
      "yes\n",
      "no\n",
      "no\n",
      "yes\n"
     ]
    }
   ],
   "source": [
    "for i in l :\n",
    "    if i % 3 == 0:\n",
    "        print(\"yes\")\n",
    "    else :\n",
    "        print(\"no\")"
   ]
  },
  {
   "cell_type": "code",
   "execution_count": null,
   "id": "378d9ab8-c213-4b7b-8ac1-2ad664cded4a",
   "metadata": {},
   "outputs": [],
   "source": [
    "#Create a variable named \"is_student\" and assign it a boolean value indicating whether you are\n",
    "#currently a student or not.\n",
    "\n",
    "is_student = True"
   ]
  }
 ],
 "metadata": {
  "kernelspec": {
   "display_name": "Python 3 (ipykernel)",
   "language": "python",
   "name": "python3"
  },
  "language_info": {
   "codemirror_mode": {
    "name": "ipython",
    "version": 3
   },
   "file_extension": ".py",
   "mimetype": "text/x-python",
   "name": "python",
   "nbconvert_exporter": "python",
   "pygments_lexer": "ipython3",
   "version": "3.10.8"
  }
 },
 "nbformat": 4,
 "nbformat_minor": 5
}
