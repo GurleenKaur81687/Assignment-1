{
 "cells": [
  {
   "cell_type": "code",
   "execution_count": 17,
   "id": "ce36c11e-111c-44cc-9435-63f5411492b8",
   "metadata": {},
   "outputs": [],
   "source": [
    "#Q1, Create a vehicle class with an init method having instance variables as name_of_vehicle, max_speed\n",
    "#and average_of_vehicle.\n",
    "\n",
    "class vehicle:\n",
    "    def __init__(self , name_of_vehicle , max_speed , average_of_vehicle):\n",
    "        self.name_of_vehicle = name_of_vehicle\n",
    "        self.max_speed = max_speed\n",
    "        self.average_of_vehicle = average_of_vehicle\n",
    "    \n"
   ]
  },
  {
   "cell_type": "code",
   "execution_count": 21,
   "id": "be3a709d-a944-4a7a-81f8-32b4de7ad82b",
   "metadata": {},
   "outputs": [],
   "source": [
    "#Q2. Create a child class car from the vehicle class created in Que 1, which will inherit the vehicle class.\n",
    "#Create a method named seating_capacity which takes capacity as an argument and returns the name of\n",
    "#the vehicle and its seating capacity.\n",
    "\n",
    "class car(vehicle):\n",
    "    \n",
    "    def __init__(self , name_of_vehicle):\n",
    "        super().__init\n",
    "    def seating_capacity(self , capacity):\n",
    "        return self.name_of_vehicle , capacity\n",
    "\n"
   ]
  },
  {
   "cell_type": "code",
   "execution_count": 25,
   "id": "4b6189ce-306f-45f9-8c09-55254b40fd29",
   "metadata": {},
   "outputs": [
    {
     "data": {
      "text/plain": [
       "('swift', 8)"
      ]
     },
     "execution_count": 25,
     "metadata": {},
     "output_type": "execute_result"
    }
   ],
   "source": [
    "a = car(\"swift\")\n",
    "a.seating_capacity(8)"
   ]
  },
  {
   "cell_type": "code",
   "execution_count": 1,
   "id": "2c44cd29-848d-4577-94e9-09cdec885c6a",
   "metadata": {},
   "outputs": [],
   "source": [
    "#Q3. What is multiple inheritance? Write a python code to demonstrate multiple inheritance.\n",
    "\n",
    "#Multiple inheritance is the type of inheritance in which a derived class can acquire properties from multiple base classes\n",
    "\n",
    "class parent_class1 :\n",
    "    def father_class(self):\n",
    "        return \"hey! I am father class\"\n",
    "    \n",
    "class parent_class2 :\n",
    "    def mother_class(self):\n",
    "        return \"hey! i am mother class \"\n",
    "    \n",
    "class child_class(parent_class1 , parent_class2):\n",
    "    def child(self):\n",
    "        return\"hey! i am child class\""
   ]
  },
  {
   "cell_type": "code",
   "execution_count": 2,
   "id": "0ef95e36-1389-4ed3-8fe6-7e109efdaec9",
   "metadata": {},
   "outputs": [],
   "source": [
    "rohan = child_class()"
   ]
  },
  {
   "cell_type": "code",
   "execution_count": 3,
   "id": "07223110-9b17-47f2-8d35-95c880b5dfd4",
   "metadata": {},
   "outputs": [
    {
     "data": {
      "text/plain": [
       "'hey! I am father class'"
      ]
     },
     "execution_count": 3,
     "metadata": {},
     "output_type": "execute_result"
    }
   ],
   "source": [
    "rohan.father_class()"
   ]
  },
  {
   "cell_type": "code",
   "execution_count": 4,
   "id": "178d4709-d4d0-4bff-adbf-0c6fd1bbba3c",
   "metadata": {},
   "outputs": [
    {
     "data": {
      "text/plain": [
       "'hey! i am mother class '"
      ]
     },
     "execution_count": 4,
     "metadata": {},
     "output_type": "execute_result"
    }
   ],
   "source": [
    "rohan.mother_class()"
   ]
  },
  {
   "cell_type": "code",
   "execution_count": 5,
   "id": "9e375b49-17f0-42c7-a0ce-30259d327a24",
   "metadata": {},
   "outputs": [
    {
     "data": {
      "text/plain": [
       "'hey! i am child class'"
      ]
     },
     "execution_count": 5,
     "metadata": {},
     "output_type": "execute_result"
    }
   ],
   "source": [
    "rohan.child()"
   ]
  },
  {
   "cell_type": "code",
   "execution_count": 6,
   "id": "b97be374-6688-45b5-b9aa-7510218fe8c4",
   "metadata": {},
   "outputs": [],
   "source": [
    "#Q4. What are getter and setter in python? Create a class and create a getter and a setter method in this\n",
    "#class.\n",
    "\n",
    "#getter and setter functions are used in opps to get and set the values of encapsulated attributes\n",
    "\n",
    "class fruits :\n",
    "    def __init__(self , name , qty):\n",
    "        self.__name = name\n",
    "        self.__qty = 0\n",
    "        \n",
    "    #setter function\n",
    "    def set_qty(self , qty):\n",
    "        if qty < 0 :\n",
    "            self.__qty = 0\n",
    "        else :\n",
    "            self.__qty = qty\n",
    "    \n",
    "    #getter function\n",
    "    def get_qty(self):\n",
    "        return self.__qty"
   ]
  },
  {
   "cell_type": "code",
   "execution_count": 7,
   "id": "9029bfd6-1b33-495d-95e3-c863a8a6be17",
   "metadata": {},
   "outputs": [],
   "source": [
    "fruit1 = fruits('mango' , 10)"
   ]
  },
  {
   "cell_type": "code",
   "execution_count": 8,
   "id": "9526fc3f-fa30-4b75-bc39-663268212d25",
   "metadata": {},
   "outputs": [
    {
     "data": {
      "text/plain": [
       "0"
      ]
     },
     "execution_count": 8,
     "metadata": {},
     "output_type": "execute_result"
    }
   ],
   "source": [
    "fruit1._fruits__qty"
   ]
  },
  {
   "cell_type": "code",
   "execution_count": 9,
   "id": "6617fdf9-abf5-4621-95cc-6a407d9b852c",
   "metadata": {},
   "outputs": [],
   "source": [
    "fruit1.set_qty(5)"
   ]
  },
  {
   "cell_type": "code",
   "execution_count": 10,
   "id": "3cf81ad3-fec4-4350-85d7-1ca67344339f",
   "metadata": {},
   "outputs": [
    {
     "data": {
      "text/plain": [
       "5"
      ]
     },
     "execution_count": 10,
     "metadata": {},
     "output_type": "execute_result"
    }
   ],
   "source": [
    "fruit1.get_qty()"
   ]
  },
  {
   "cell_type": "code",
   "execution_count": 13,
   "id": "e112c541-2221-4634-b2bb-52d56cfdb23e",
   "metadata": {},
   "outputs": [],
   "source": [
    "# Q5.What is method overriding in python? Write a python code to demonstrate method overriding.\n",
    "# method overriding in subclass replaces a method in parent class and has same parameters and return type\n",
    "\n",
    "class A:\n",
    "    def fruits(self):\n",
    "        return\"fruits\"\n",
    "\n",
    "class B(A):\n",
    "    def fruits(self):\n",
    "        return\"apple\""
   ]
  },
  {
   "cell_type": "code",
   "execution_count": 14,
   "id": "c9870075-6bc6-4977-8280-34424e49ee41",
   "metadata": {},
   "outputs": [
    {
     "data": {
      "text/plain": [
       "'apple'"
      ]
     },
     "execution_count": 14,
     "metadata": {},
     "output_type": "execute_result"
    }
   ],
   "source": [
    "a = A()\n",
    "b = B()\n",
    "a.fruits()\n",
    "b.fruits()"
   ]
  },
  {
   "cell_type": "code",
   "execution_count": 16,
   "id": "3cb845b0-d143-479c-9d36-dd0dfb4424e0",
   "metadata": {},
   "outputs": [
    {
     "data": {
      "text/plain": [
       "'fruits'"
      ]
     },
     "execution_count": 16,
     "metadata": {},
     "output_type": "execute_result"
    }
   ],
   "source": [
    "a.fruits()"
   ]
  },
  {
   "cell_type": "code",
   "execution_count": null,
   "id": "0d0b57a3-10b5-4430-9481-d6f25aac61be",
   "metadata": {},
   "outputs": [],
   "source": []
  }
 ],
 "metadata": {
  "kernelspec": {
   "display_name": "Python 3 (ipykernel)",
   "language": "python",
   "name": "python3"
  },
  "language_info": {
   "codemirror_mode": {
    "name": "ipython",
    "version": 3
   },
   "file_extension": ".py",
   "mimetype": "text/x-python",
   "name": "python",
   "nbconvert_exporter": "python",
   "pygments_lexer": "ipython3",
   "version": "3.10.8"
  }
 },
 "nbformat": 4,
 "nbformat_minor": 5
}
